{
 "cells": [
  {
   "cell_type": "code",
   "execution_count": 1,
   "metadata": {},
   "outputs": [],
   "source": [
    "#import some necessary librairies\n",
    "\n",
    "import numpy as np # linear algebra\n",
    "import pandas as pd # data processing, CSV file I/O (e.g. pd.read_csv)\n",
    "%matplotlib inline\n",
    "import matplotlib.pyplot as plt  # Matlab-style plotting\n",
    "import seaborn as sns\n",
    "color = sns.color_palette()\n",
    "sns.set_style('darkgrid')\n",
    "\n",
    "import warnings\n",
    "warnings.filterwarnings(action='ignore')\n",
    "\n",
    "from scipy import stats\n",
    "from scipy.stats import norm, skew #for some statistics\n",
    "\n",
    "\n",
    "pd.set_option('display.float_format', lambda x: '{:.3f}'.format(x)) #Limiting floats output to 3 decimal points\n",
    "\n",
    "\n",
    "#from subprocess import check_output\n",
    "#print(check_output([\"ls\", \"../input\"]).decode(\"utf8\")) #check the files available in the directory"
   ]
  },
  {
   "cell_type": "code",
   "execution_count": 2,
   "metadata": {},
   "outputs": [],
   "source": [
    "#function to get the encoding of the FSDT files\n",
    "\n",
    "import chardet\n",
    "\n",
    "def find_encoding(fname):\n",
    "    r_file = open(fname, 'rb').read()\n",
    "    result = chardet.detect(r_file)\n",
    "    charenc = result['encoding']\n",
    "    return charenc"
   ]
  },
  {
   "cell_type": "code",
   "execution_count": 3,
   "metadata": {},
   "outputs": [],
   "source": [
    "fsdt_1 = pd.read_csv('3rd_ppp_for_upload_win.csv', encoding = \"ISO-8859-1\")\n",
    "fsdt_2 = pd.read_csv('atm_for_upload_win.csv', encoding = \"ISO-8859-1\")\n",
    "fsdt_3 = pd.read_csv('banks_for_upload_win.csv', encoding = \"ISO-8859-1\")\n",
    "fsdt_4 = pd.read_csv('bus_stands_for_upload_win.csv', encoding = \"ISO-8859-1\")\n",
    "fsdt_5 = pd.read_csv('microfinance_for_upload_win.csv', encoding = \"ISO-8859-1\")\n",
    "fsdt_6 = pd.read_csv('mobilemoney_agents_for_upload_win.csv', encoding = \"ISO-8859-1\")\n",
    "fsdt_7 = pd.read_csv('pos_for_upload_win.csv', encoding = \"ISO-8859-1\")\n",
    "fsdt_8 = pd.read_csv('post_office_for_upload_win.csv', encoding = \"ISO-8859-1\")\n",
    "fsdt_9 = pd.read_csv('sacco_for_upload_win.csv', encoding = \"ISO-8859-1\")"
   ]
  },
  {
   "cell_type": "code",
   "execution_count": 4,
   "metadata": {},
   "outputs": [
    {
     "data": {
      "text/html": [
       "<div>\n",
       "<style scoped>\n",
       "    .dataframe tbody tr th:only-of-type {\n",
       "        vertical-align: middle;\n",
       "    }\n",
       "\n",
       "    .dataframe tbody tr th {\n",
       "        vertical-align: top;\n",
       "    }\n",
       "\n",
       "    .dataframe thead th {\n",
       "        text-align: right;\n",
       "    }\n",
       "</style>\n",
       "<table border=\"1\" class=\"dataframe\">\n",
       "  <thead>\n",
       "    <tr style=\"text-align: right;\">\n",
       "      <th></th>\n",
       "      <th>region</th>\n",
       "      <th>district</th>\n",
       "      <th>ward</th>\n",
       "      <th>latitude</th>\n",
       "      <th>longitude</th>\n",
       "      <th>agent_name</th>\n",
       "      <th>standalone_agent</th>\n",
       "      <th>other_activities</th>\n",
       "      <th>trading_hours</th>\n",
       "      <th>provider_selcom</th>\n",
       "      <th>...</th>\n",
       "      <th>services_airtime_purchase</th>\n",
       "      <th>Other than those listed above are there any other services provided?</th>\n",
       "      <th>Please indicate</th>\n",
       "      <th>branding_but__service</th>\n",
       "      <th>Please select</th>\n",
       "      <th>branding_but_no_service_MaxMalipo</th>\n",
       "      <th>branding_but_no_service_Selcom</th>\n",
       "      <th>branding_but_no_service_ButtonPay</th>\n",
       "      <th>branding_but_no_service_other</th>\n",
       "      <th>branding_but_no_service_other_detail</th>\n",
       "    </tr>\n",
       "  </thead>\n",
       "  <tbody>\n",
       "    <tr>\n",
       "      <th>0</th>\n",
       "      <td>Mwanza</td>\n",
       "      <td>Magu</td>\n",
       "      <td>Nyanguge</td>\n",
       "      <td>-2.369</td>\n",
       "      <td>33.577</td>\n",
       "      <td>Ahad Techknowledge</td>\n",
       "      <td>Conduct other business</td>\n",
       "      <td>Accessories</td>\n",
       "      <td>12 hours</td>\n",
       "      <td>Yes</td>\n",
       "      <td>...</td>\n",
       "      <td>Yes</td>\n",
       "      <td>nan</td>\n",
       "      <td>nan</td>\n",
       "      <td>NaN</td>\n",
       "      <td>nan</td>\n",
       "      <td>NaN</td>\n",
       "      <td>NaN</td>\n",
       "      <td>NaN</td>\n",
       "      <td>NaN</td>\n",
       "      <td>NaN</td>\n",
       "    </tr>\n",
       "    <tr>\n",
       "      <th>1</th>\n",
       "      <td>Mwanza</td>\n",
       "      <td>Ilemela</td>\n",
       "      <td>Nyakato</td>\n",
       "      <td>-2.532</td>\n",
       "      <td>32.948</td>\n",
       "      <td>Dady Mpesa Shop</td>\n",
       "      <td>Conduct other business</td>\n",
       "      <td>Accessories</td>\n",
       "      <td>12 hours</td>\n",
       "      <td>NaN</td>\n",
       "      <td>...</td>\n",
       "      <td>Yes</td>\n",
       "      <td>nan</td>\n",
       "      <td>nan</td>\n",
       "      <td>NaN</td>\n",
       "      <td>nan</td>\n",
       "      <td>NaN</td>\n",
       "      <td>NaN</td>\n",
       "      <td>NaN</td>\n",
       "      <td>NaN</td>\n",
       "      <td>NaN</td>\n",
       "    </tr>\n",
       "    <tr>\n",
       "      <th>2</th>\n",
       "      <td>Dar es Salaam</td>\n",
       "      <td>Ilala</td>\n",
       "      <td>Segerea</td>\n",
       "      <td>-6.842</td>\n",
       "      <td>39.211</td>\n",
       "      <td>A City Shop</td>\n",
       "      <td>Stand Alone Agent</td>\n",
       "      <td>NaN</td>\n",
       "      <td>12 hours</td>\n",
       "      <td>Yes</td>\n",
       "      <td>...</td>\n",
       "      <td>Yes</td>\n",
       "      <td>nan</td>\n",
       "      <td>nan</td>\n",
       "      <td>NaN</td>\n",
       "      <td>nan</td>\n",
       "      <td>NaN</td>\n",
       "      <td>NaN</td>\n",
       "      <td>NaN</td>\n",
       "      <td>NaN</td>\n",
       "      <td>NaN</td>\n",
       "    </tr>\n",
       "  </tbody>\n",
       "</table>\n",
       "<p>3 rows × 62 columns</p>\n",
       "</div>"
      ],
      "text/plain": [
       "          region district      ward  latitude  longitude          agent_name  \\\n",
       "0         Mwanza     Magu  Nyanguge    -2.369     33.577  Ahad Techknowledge   \n",
       "1         Mwanza  Ilemela   Nyakato    -2.532     32.948     Dady Mpesa Shop   \n",
       "2  Dar es Salaam    Ilala   Segerea    -6.842     39.211         A City Shop   \n",
       "\n",
       "         standalone_agent other_activities trading_hours provider_selcom  ...  \\\n",
       "0  Conduct other business      Accessories      12 hours             Yes  ...   \n",
       "1  Conduct other business      Accessories      12 hours             NaN  ...   \n",
       "2       Stand Alone Agent              NaN      12 hours             Yes  ...   \n",
       "\n",
       "   services_airtime_purchase  \\\n",
       "0                        Yes   \n",
       "1                        Yes   \n",
       "2                        Yes   \n",
       "\n",
       "   Other than those listed above are there any other services provided?  \\\n",
       "0                                                nan                      \n",
       "1                                                nan                      \n",
       "2                                                nan                      \n",
       "\n",
       "   Please indicate branding_but__service Please select  \\\n",
       "0              nan                   NaN           nan   \n",
       "1              nan                   NaN           nan   \n",
       "2              nan                   NaN           nan   \n",
       "\n",
       "  branding_but_no_service_MaxMalipo branding_but_no_service_Selcom  \\\n",
       "0                               NaN                            NaN   \n",
       "1                               NaN                            NaN   \n",
       "2                               NaN                            NaN   \n",
       "\n",
       "  branding_but_no_service_ButtonPay  branding_but_no_service_other  \\\n",
       "0                               NaN                            NaN   \n",
       "1                               NaN                            NaN   \n",
       "2                               NaN                            NaN   \n",
       "\n",
       "   branding_but_no_service_other_detail  \n",
       "0                                   NaN  \n",
       "1                                   NaN  \n",
       "2                                   NaN  \n",
       "\n",
       "[3 rows x 62 columns]"
      ]
     },
     "execution_count": 4,
     "metadata": {},
     "output_type": "execute_result"
    }
   ],
   "source": [
    "fsdt_1.head(3)"
   ]
  },
  {
   "cell_type": "code",
   "execution_count": 5,
   "metadata": {},
   "outputs": [
    {
     "data": {
      "text/html": [
       "<div>\n",
       "<style scoped>\n",
       "    .dataframe tbody tr th:only-of-type {\n",
       "        vertical-align: middle;\n",
       "    }\n",
       "\n",
       "    .dataframe tbody tr th {\n",
       "        vertical-align: top;\n",
       "    }\n",
       "\n",
       "    .dataframe thead th {\n",
       "        text-align: right;\n",
       "    }\n",
       "</style>\n",
       "<table border=\"1\" class=\"dataframe\">\n",
       "  <thead>\n",
       "    <tr style=\"text-align: right;\">\n",
       "      <th></th>\n",
       "      <th>region</th>\n",
       "      <th>district</th>\n",
       "      <th>ward</th>\n",
       "      <th>latitude</th>\n",
       "      <th>longitude</th>\n",
       "      <th>bank_type</th>\n",
       "      <th>bank_name</th>\n",
       "      <th>weekend_trading</th>\n",
       "      <th>yr_started</th>\n",
       "      <th>yr_started_reformatted</th>\n",
       "    </tr>\n",
       "  </thead>\n",
       "  <tbody>\n",
       "    <tr>\n",
       "      <th>0</th>\n",
       "      <td>Dar es Salaam</td>\n",
       "      <td>Temeke</td>\n",
       "      <td>Mbagala</td>\n",
       "      <td>-6.922</td>\n",
       "      <td>39.271</td>\n",
       "      <td>Commercial Bank</td>\n",
       "      <td>Accessbank (Tanzania) Limited</td>\n",
       "      <td>Yes</td>\n",
       "      <td>16/05/11</td>\n",
       "      <td>2011-5-01</td>\n",
       "    </tr>\n",
       "    <tr>\n",
       "      <th>1</th>\n",
       "      <td>Shinyanga</td>\n",
       "      <td>Kahama</td>\n",
       "      <td>Kahama Mjini</td>\n",
       "      <td>-3.829</td>\n",
       "      <td>32.600</td>\n",
       "      <td>Commercial Bank</td>\n",
       "      <td>Accessbank (Tanzania) Limited</td>\n",
       "      <td>No</td>\n",
       "      <td>12/07/13</td>\n",
       "      <td>2013-7-01</td>\n",
       "    </tr>\n",
       "    <tr>\n",
       "      <th>2</th>\n",
       "      <td>Dar es Salaam</td>\n",
       "      <td>Temeke</td>\n",
       "      <td>Miburani</td>\n",
       "      <td>-6.862</td>\n",
       "      <td>39.262</td>\n",
       "      <td>Commercial Bank</td>\n",
       "      <td>Accessbank (Tanzania) Limited</td>\n",
       "      <td>Yes</td>\n",
       "      <td>05/03/98</td>\n",
       "      <td>1998-3-01</td>\n",
       "    </tr>\n",
       "  </tbody>\n",
       "</table>\n",
       "</div>"
      ],
      "text/plain": [
       "          region district          ward  latitude  longitude        bank_type  \\\n",
       "0  Dar es Salaam   Temeke       Mbagala    -6.922     39.271  Commercial Bank   \n",
       "1      Shinyanga   Kahama  Kahama Mjini    -3.829     32.600  Commercial Bank   \n",
       "2  Dar es Salaam   Temeke      Miburani    -6.862     39.262  Commercial Bank   \n",
       "\n",
       "                       bank_name weekend_trading yr_started  \\\n",
       "0  Accessbank (Tanzania) Limited             Yes   16/05/11   \n",
       "1  Accessbank (Tanzania) Limited              No   12/07/13   \n",
       "2  Accessbank (Tanzania) Limited             Yes   05/03/98   \n",
       "\n",
       "  yr_started_reformatted  \n",
       "0              2011-5-01  \n",
       "1              2013-7-01  \n",
       "2              1998-3-01  "
      ]
     },
     "execution_count": 5,
     "metadata": {},
     "output_type": "execute_result"
    }
   ],
   "source": [
    "fsdt_3.head(3)"
   ]
  },
  {
   "cell_type": "code",
   "execution_count": 6,
   "metadata": {},
   "outputs": [],
   "source": [
    "fsdt_1 = fsdt_1[['region', 'district', 'ward', 'latitude', 'longitude']]\n",
    "fsdt_2 = fsdt_2[['region', 'district', 'ward', 'latitude', 'longitude']]\n",
    "fsdt_3 = fsdt_3[['region', 'district', 'ward', 'latitude', 'longitude']]\n",
    "fsdt_4 = fsdt_4[['region', 'district', 'ward', 'latitude', 'longitude']]\n",
    "fsdt_5 = fsdt_5[['region', 'district', 'ward', 'latitude', 'longitude']]\n",
    "fsdt_6 = fsdt_6[['region', 'district', 'ward', 'latitude', 'longitude']]\n",
    "fsdt_7 = fsdt_7[['region', 'district', 'ward', 'latitude', 'longitude']]\n",
    "fsdt_8 = fsdt_8[['region', 'district', 'ward', 'latitude', 'longitude']]\n",
    "fsdt_9 = fsdt_9[['region', 'district', 'ward', 'latitude', 'longitude']]"
   ]
  },
  {
   "cell_type": "code",
   "execution_count": 7,
   "metadata": {},
   "outputs": [],
   "source": [
    "fsdt = pd.concat([fsdt_1, fsdt_2, fsdt_3, fsdt_4, fsdt_5, fsdt_6, fsdt_7, fsdt_8, fsdt_9], axis=0)"
   ]
  },
  {
   "cell_type": "code",
   "execution_count": 8,
   "metadata": {},
   "outputs": [
    {
     "data": {
      "text/html": [
       "<div>\n",
       "<style scoped>\n",
       "    .dataframe tbody tr th:only-of-type {\n",
       "        vertical-align: middle;\n",
       "    }\n",
       "\n",
       "    .dataframe tbody tr th {\n",
       "        vertical-align: top;\n",
       "    }\n",
       "\n",
       "    .dataframe thead th {\n",
       "        text-align: right;\n",
       "    }\n",
       "</style>\n",
       "<table border=\"1\" class=\"dataframe\">\n",
       "  <thead>\n",
       "    <tr style=\"text-align: right;\">\n",
       "      <th></th>\n",
       "      <th>region</th>\n",
       "      <th>district</th>\n",
       "      <th>ward</th>\n",
       "      <th>latitude</th>\n",
       "      <th>longitude</th>\n",
       "    </tr>\n",
       "  </thead>\n",
       "  <tbody>\n",
       "    <tr>\n",
       "      <th>30293</th>\n",
       "      <td>Singida</td>\n",
       "      <td>Singida Urban</td>\n",
       "      <td>Majengo</td>\n",
       "      <td>-4.820</td>\n",
       "      <td>34.752</td>\n",
       "    </tr>\n",
       "    <tr>\n",
       "      <th>23786</th>\n",
       "      <td>Arusha</td>\n",
       "      <td>Arusha</td>\n",
       "      <td>Kati</td>\n",
       "      <td>-3.370</td>\n",
       "      <td>36.685</td>\n",
       "    </tr>\n",
       "    <tr>\n",
       "      <th>44619</th>\n",
       "      <td>Dar es Salaam</td>\n",
       "      <td>Kinondoni</td>\n",
       "      <td>Mbezi</td>\n",
       "      <td>-6.726</td>\n",
       "      <td>39.211</td>\n",
       "    </tr>\n",
       "    <tr>\n",
       "      <th>41365</th>\n",
       "      <td>Dodoma</td>\n",
       "      <td>Dodoma Urban</td>\n",
       "      <td>Makole</td>\n",
       "      <td>-6.177</td>\n",
       "      <td>35.758</td>\n",
       "    </tr>\n",
       "    <tr>\n",
       "      <th>4401</th>\n",
       "      <td>Dar es Salaam</td>\n",
       "      <td>Ilala</td>\n",
       "      <td>Kipawa</td>\n",
       "      <td>-6.853</td>\n",
       "      <td>39.209</td>\n",
       "    </tr>\n",
       "    <tr>\n",
       "      <th>10687</th>\n",
       "      <td>Dar es Salaam</td>\n",
       "      <td>Kinondoni</td>\n",
       "      <td>Kunduchi</td>\n",
       "      <td>-6.704</td>\n",
       "      <td>39.216</td>\n",
       "    </tr>\n",
       "    <tr>\n",
       "      <th>32821</th>\n",
       "      <td>Tanga</td>\n",
       "      <td>Pangani</td>\n",
       "      <td>Pangani Magharibi</td>\n",
       "      <td>-5.429</td>\n",
       "      <td>38.973</td>\n",
       "    </tr>\n",
       "  </tbody>\n",
       "</table>\n",
       "</div>"
      ],
      "text/plain": [
       "              region       district               ward  latitude  longitude\n",
       "30293        Singida  Singida Urban            Majengo    -4.820     34.752\n",
       "23786         Arusha         Arusha               Kati    -3.370     36.685\n",
       "44619  Dar es Salaam      Kinondoni              Mbezi    -6.726     39.211\n",
       "41365         Dodoma   Dodoma Urban             Makole    -6.177     35.758\n",
       "4401   Dar es Salaam          Ilala             Kipawa    -6.853     39.209\n",
       "10687  Dar es Salaam      Kinondoni           Kunduchi    -6.704     39.216\n",
       "32821          Tanga        Pangani  Pangani Magharibi    -5.429     38.973"
      ]
     },
     "execution_count": 8,
     "metadata": {},
     "output_type": "execute_result"
    }
   ],
   "source": [
    "fsdt.sample(7)"
   ]
  },
  {
   "cell_type": "code",
   "execution_count": 9,
   "metadata": {},
   "outputs": [
    {
     "data": {
      "text/plain": [
       "(56019, 5)"
      ]
     },
     "execution_count": 9,
     "metadata": {},
     "output_type": "execute_result"
    }
   ],
   "source": [
    "fsdt.shape"
   ]
  },
  {
   "cell_type": "code",
   "execution_count": 10,
   "metadata": {},
   "outputs": [],
   "source": [
    "fsdt.dropna(axis=0, inplace=True)\n",
    "fsdt.drop_duplicates(inplace=True)\n",
    "fsdt.reset_index(drop=True, inplace=True)"
   ]
  },
  {
   "cell_type": "code",
   "execution_count": 11,
   "metadata": {},
   "outputs": [
    {
     "data": {
      "text/plain": [
       "(55850, 5)"
      ]
     },
     "execution_count": 11,
     "metadata": {},
     "output_type": "execute_result"
    }
   ],
   "source": [
    "fsdt.shape"
   ]
  },
  {
   "cell_type": "code",
   "execution_count": 12,
   "metadata": {},
   "outputs": [
    {
     "data": {
      "text/html": [
       "<div>\n",
       "<style scoped>\n",
       "    .dataframe tbody tr th:only-of-type {\n",
       "        vertical-align: middle;\n",
       "    }\n",
       "\n",
       "    .dataframe tbody tr th {\n",
       "        vertical-align: top;\n",
       "    }\n",
       "\n",
       "    .dataframe thead th {\n",
       "        text-align: right;\n",
       "    }\n",
       "</style>\n",
       "<table border=\"1\" class=\"dataframe\">\n",
       "  <thead>\n",
       "    <tr style=\"text-align: right;\">\n",
       "      <th></th>\n",
       "      <th>region</th>\n",
       "      <th>district</th>\n",
       "      <th>ward</th>\n",
       "      <th>latitude</th>\n",
       "      <th>longitude</th>\n",
       "    </tr>\n",
       "  </thead>\n",
       "  <tbody>\n",
       "    <tr>\n",
       "      <th>0</th>\n",
       "      <td>Mwanza</td>\n",
       "      <td>Magu</td>\n",
       "      <td>Nyanguge</td>\n",
       "      <td>-2.369</td>\n",
       "      <td>33.577</td>\n",
       "    </tr>\n",
       "    <tr>\n",
       "      <th>1</th>\n",
       "      <td>Mwanza</td>\n",
       "      <td>Ilemela</td>\n",
       "      <td>Nyakato</td>\n",
       "      <td>-2.532</td>\n",
       "      <td>32.948</td>\n",
       "    </tr>\n",
       "    <tr>\n",
       "      <th>2</th>\n",
       "      <td>Dar es Salaam</td>\n",
       "      <td>Ilala</td>\n",
       "      <td>Segerea</td>\n",
       "      <td>-6.842</td>\n",
       "      <td>39.211</td>\n",
       "    </tr>\n",
       "    <tr>\n",
       "      <th>3</th>\n",
       "      <td>Dar es Salaam</td>\n",
       "      <td>Kinondoni</td>\n",
       "      <td>Kijitonyama</td>\n",
       "      <td>-6.779</td>\n",
       "      <td>39.241</td>\n",
       "    </tr>\n",
       "    <tr>\n",
       "      <th>4</th>\n",
       "      <td>Dar es Salaam</td>\n",
       "      <td>Temeke</td>\n",
       "      <td>Kigamboni</td>\n",
       "      <td>-6.828</td>\n",
       "      <td>39.310</td>\n",
       "    </tr>\n",
       "  </tbody>\n",
       "</table>\n",
       "</div>"
      ],
      "text/plain": [
       "          region   district         ward  latitude  longitude\n",
       "0         Mwanza       Magu     Nyanguge    -2.369     33.577\n",
       "1         Mwanza    Ilemela      Nyakato    -2.532     32.948\n",
       "2  Dar es Salaam      Ilala      Segerea    -6.842     39.211\n",
       "3  Dar es Salaam  Kinondoni  Kijitonyama    -6.779     39.241\n",
       "4  Dar es Salaam     Temeke    Kigamboni    -6.828     39.310"
      ]
     },
     "execution_count": 12,
     "metadata": {},
     "output_type": "execute_result"
    }
   ],
   "source": [
    "fsdt.head()"
   ]
  },
  {
   "cell_type": "code",
   "execution_count": 13,
   "metadata": {},
   "outputs": [
    {
     "data": {
      "text/plain": [
       "region          22\n",
       "district       124\n",
       "ward          1383\n",
       "latitude     40399\n",
       "longitude    41000\n",
       "dtype: int64"
      ]
     },
     "execution_count": 13,
     "metadata": {},
     "output_type": "execute_result"
    }
   ],
   "source": [
    "fsdt.nunique()"
   ]
  },
  {
   "cell_type": "code",
   "execution_count": null,
   "metadata": {},
   "outputs": [],
   "source": []
  },
  {
   "cell_type": "markdown",
   "metadata": {},
   "source": [
    "GET THE DISTRICT OF THE LONGITUDE & LATITUDE OF THE TRAINING SET AND TEST SET"
   ]
  },
  {
   "cell_type": "code",
   "execution_count": 14,
   "metadata": {},
   "outputs": [],
   "source": [
    "original_fsdt = fsdt.copy()"
   ]
  },
  {
   "cell_type": "code",
   "execution_count": 15,
   "metadata": {},
   "outputs": [
    {
     "name": "stdout",
     "output_type": "stream",
     "text": [
      "<class 'pandas.core.frame.DataFrame'>\n",
      "RangeIndex: 55850 entries, 0 to 55849\n",
      "Data columns (total 5 columns):\n",
      "region       55850 non-null category\n",
      "district     55850 non-null object\n",
      "ward         55850 non-null object\n",
      "latitude     55850 non-null float64\n",
      "longitude    55850 non-null float64\n",
      "dtypes: category(1), float64(2), object(2)\n",
      "memory usage: 1.8+ MB\n"
     ]
    }
   ],
   "source": [
    "fsdt['region'] = fsdt['region'].astype('category')\n",
    "fsdt.info()"
   ]
  },
  {
   "cell_type": "code",
   "execution_count": 16,
   "metadata": {},
   "outputs": [],
   "source": [
    "cat_column = fsdt.select_dtypes(include='category')\n",
    "\n",
    "fsdt['region'] = cat_column.apply(lambda x: x.cat.codes)"
   ]
  },
  {
   "cell_type": "code",
   "execution_count": 17,
   "metadata": {},
   "outputs": [
    {
     "data": {
      "text/html": [
       "<div>\n",
       "<style scoped>\n",
       "    .dataframe tbody tr th:only-of-type {\n",
       "        vertical-align: middle;\n",
       "    }\n",
       "\n",
       "    .dataframe tbody tr th {\n",
       "        vertical-align: top;\n",
       "    }\n",
       "\n",
       "    .dataframe thead th {\n",
       "        text-align: right;\n",
       "    }\n",
       "</style>\n",
       "<table border=\"1\" class=\"dataframe\">\n",
       "  <thead>\n",
       "    <tr style=\"text-align: right;\">\n",
       "      <th></th>\n",
       "      <th>region</th>\n",
       "      <th>district</th>\n",
       "      <th>ward</th>\n",
       "      <th>latitude</th>\n",
       "      <th>longitude</th>\n",
       "    </tr>\n",
       "  </thead>\n",
       "  <tbody>\n",
       "    <tr>\n",
       "      <th>0</th>\n",
       "      <td>13</td>\n",
       "      <td>Magu</td>\n",
       "      <td>Nyanguge</td>\n",
       "      <td>-2.369</td>\n",
       "      <td>33.577</td>\n",
       "    </tr>\n",
       "    <tr>\n",
       "      <th>1</th>\n",
       "      <td>13</td>\n",
       "      <td>Ilemela</td>\n",
       "      <td>Nyakato</td>\n",
       "      <td>-2.532</td>\n",
       "      <td>32.948</td>\n",
       "    </tr>\n",
       "    <tr>\n",
       "      <th>2</th>\n",
       "      <td>1</td>\n",
       "      <td>Ilala</td>\n",
       "      <td>Segerea</td>\n",
       "      <td>-6.842</td>\n",
       "      <td>39.211</td>\n",
       "    </tr>\n",
       "    <tr>\n",
       "      <th>3</th>\n",
       "      <td>1</td>\n",
       "      <td>Kinondoni</td>\n",
       "      <td>Kijitonyama</td>\n",
       "      <td>-6.779</td>\n",
       "      <td>39.241</td>\n",
       "    </tr>\n",
       "    <tr>\n",
       "      <th>4</th>\n",
       "      <td>1</td>\n",
       "      <td>Temeke</td>\n",
       "      <td>Kigamboni</td>\n",
       "      <td>-6.828</td>\n",
       "      <td>39.310</td>\n",
       "    </tr>\n",
       "  </tbody>\n",
       "</table>\n",
       "</div>"
      ],
      "text/plain": [
       "   region   district         ward  latitude  longitude\n",
       "0      13       Magu     Nyanguge    -2.369     33.577\n",
       "1      13    Ilemela      Nyakato    -2.532     32.948\n",
       "2       1      Ilala      Segerea    -6.842     39.211\n",
       "3       1  Kinondoni  Kijitonyama    -6.779     39.241\n",
       "4       1     Temeke    Kigamboni    -6.828     39.310"
      ]
     },
     "execution_count": 17,
     "metadata": {},
     "output_type": "execute_result"
    }
   ],
   "source": [
    "fsdt.head()"
   ]
  },
  {
   "cell_type": "code",
   "execution_count": 18,
   "metadata": {},
   "outputs": [
    {
     "data": {
      "text/html": [
       "<div>\n",
       "<style scoped>\n",
       "    .dataframe tbody tr th:only-of-type {\n",
       "        vertical-align: middle;\n",
       "    }\n",
       "\n",
       "    .dataframe tbody tr th {\n",
       "        vertical-align: top;\n",
       "    }\n",
       "\n",
       "    .dataframe thead th {\n",
       "        text-align: right;\n",
       "    }\n",
       "</style>\n",
       "<table border=\"1\" class=\"dataframe\">\n",
       "  <thead>\n",
       "    <tr style=\"text-align: right;\">\n",
       "      <th></th>\n",
       "      <th>region</th>\n",
       "      <th>district</th>\n",
       "      <th>ward</th>\n",
       "      <th>latitude</th>\n",
       "      <th>longitude</th>\n",
       "    </tr>\n",
       "  </thead>\n",
       "  <tbody>\n",
       "    <tr>\n",
       "      <th>0</th>\n",
       "      <td>Mwanza</td>\n",
       "      <td>Magu</td>\n",
       "      <td>Nyanguge</td>\n",
       "      <td>-2.369</td>\n",
       "      <td>33.577</td>\n",
       "    </tr>\n",
       "    <tr>\n",
       "      <th>1</th>\n",
       "      <td>Mwanza</td>\n",
       "      <td>Ilemela</td>\n",
       "      <td>Nyakato</td>\n",
       "      <td>-2.532</td>\n",
       "      <td>32.948</td>\n",
       "    </tr>\n",
       "    <tr>\n",
       "      <th>2</th>\n",
       "      <td>Dar es Salaam</td>\n",
       "      <td>Ilala</td>\n",
       "      <td>Segerea</td>\n",
       "      <td>-6.842</td>\n",
       "      <td>39.211</td>\n",
       "    </tr>\n",
       "    <tr>\n",
       "      <th>3</th>\n",
       "      <td>Dar es Salaam</td>\n",
       "      <td>Kinondoni</td>\n",
       "      <td>Kijitonyama</td>\n",
       "      <td>-6.779</td>\n",
       "      <td>39.241</td>\n",
       "    </tr>\n",
       "    <tr>\n",
       "      <th>4</th>\n",
       "      <td>Dar es Salaam</td>\n",
       "      <td>Temeke</td>\n",
       "      <td>Kigamboni</td>\n",
       "      <td>-6.828</td>\n",
       "      <td>39.310</td>\n",
       "    </tr>\n",
       "  </tbody>\n",
       "</table>\n",
       "</div>"
      ],
      "text/plain": [
       "          region   district         ward  latitude  longitude\n",
       "0         Mwanza       Magu     Nyanguge    -2.369     33.577\n",
       "1         Mwanza    Ilemela      Nyakato    -2.532     32.948\n",
       "2  Dar es Salaam      Ilala      Segerea    -6.842     39.211\n",
       "3  Dar es Salaam  Kinondoni  Kijitonyama    -6.779     39.241\n",
       "4  Dar es Salaam     Temeke    Kigamboni    -6.828     39.310"
      ]
     },
     "execution_count": 18,
     "metadata": {},
     "output_type": "execute_result"
    }
   ],
   "source": [
    "original_fsdt.head()"
   ]
  },
  {
   "cell_type": "code",
   "execution_count": 19,
   "metadata": {},
   "outputs": [],
   "source": [
    "name_vs_label = pd.concat([original_fsdt['region'], fsdt['region']], axis=1)"
   ]
  },
  {
   "cell_type": "code",
   "execution_count": 20,
   "metadata": {},
   "outputs": [],
   "source": [
    "name_vs_label.columns = ['region_name', 'region_label']"
   ]
  },
  {
   "cell_type": "code",
   "execution_count": 21,
   "metadata": {},
   "outputs": [
    {
     "data": {
      "text/html": [
       "<div>\n",
       "<style scoped>\n",
       "    .dataframe tbody tr th:only-of-type {\n",
       "        vertical-align: middle;\n",
       "    }\n",
       "\n",
       "    .dataframe tbody tr th {\n",
       "        vertical-align: top;\n",
       "    }\n",
       "\n",
       "    .dataframe thead th {\n",
       "        text-align: right;\n",
       "    }\n",
       "</style>\n",
       "<table border=\"1\" class=\"dataframe\">\n",
       "  <thead>\n",
       "    <tr style=\"text-align: right;\">\n",
       "      <th></th>\n",
       "      <th>region_name</th>\n",
       "      <th>region_label</th>\n",
       "    </tr>\n",
       "  </thead>\n",
       "  <tbody>\n",
       "    <tr>\n",
       "      <th>0</th>\n",
       "      <td>Mwanza</td>\n",
       "      <td>13</td>\n",
       "    </tr>\n",
       "    <tr>\n",
       "      <th>1</th>\n",
       "      <td>Mwanza</td>\n",
       "      <td>13</td>\n",
       "    </tr>\n",
       "    <tr>\n",
       "      <th>2</th>\n",
       "      <td>Dar es Salaam</td>\n",
       "      <td>1</td>\n",
       "    </tr>\n",
       "    <tr>\n",
       "      <th>3</th>\n",
       "      <td>Dar es Salaam</td>\n",
       "      <td>1</td>\n",
       "    </tr>\n",
       "    <tr>\n",
       "      <th>4</th>\n",
       "      <td>Dar es Salaam</td>\n",
       "      <td>1</td>\n",
       "    </tr>\n",
       "  </tbody>\n",
       "</table>\n",
       "</div>"
      ],
      "text/plain": [
       "     region_name  region_label\n",
       "0         Mwanza            13\n",
       "1         Mwanza            13\n",
       "2  Dar es Salaam             1\n",
       "3  Dar es Salaam             1\n",
       "4  Dar es Salaam             1"
      ]
     },
     "execution_count": 21,
     "metadata": {},
     "output_type": "execute_result"
    }
   ],
   "source": [
    "name_vs_label.head()"
   ]
  },
  {
   "cell_type": "code",
   "execution_count": 22,
   "metadata": {},
   "outputs": [],
   "source": [
    "y = fsdt['region']\n",
    "X = fsdt.drop(['ward', 'district', 'region'], axis=1)\n",
    "\n",
    "from sklearn.model_selection import train_test_split\n",
    "\n",
    "X_train, X_test, y_train, y_test = train_test_split(X, y, stratify=y, test_size=0.25, random_state=42)"
   ]
  },
  {
   "cell_type": "code",
   "execution_count": 23,
   "metadata": {},
   "outputs": [
    {
     "data": {
      "text/html": [
       "<div>\n",
       "<style scoped>\n",
       "    .dataframe tbody tr th:only-of-type {\n",
       "        vertical-align: middle;\n",
       "    }\n",
       "\n",
       "    .dataframe tbody tr th {\n",
       "        vertical-align: top;\n",
       "    }\n",
       "\n",
       "    .dataframe thead th {\n",
       "        text-align: right;\n",
       "    }\n",
       "</style>\n",
       "<table border=\"1\" class=\"dataframe\">\n",
       "  <thead>\n",
       "    <tr style=\"text-align: right;\">\n",
       "      <th></th>\n",
       "      <th>latitude</th>\n",
       "      <th>longitude</th>\n",
       "    </tr>\n",
       "  </thead>\n",
       "  <tbody>\n",
       "    <tr>\n",
       "      <th>0</th>\n",
       "      <td>-2.369</td>\n",
       "      <td>33.577</td>\n",
       "    </tr>\n",
       "    <tr>\n",
       "      <th>1</th>\n",
       "      <td>-2.532</td>\n",
       "      <td>32.948</td>\n",
       "    </tr>\n",
       "    <tr>\n",
       "      <th>2</th>\n",
       "      <td>-6.842</td>\n",
       "      <td>39.211</td>\n",
       "    </tr>\n",
       "    <tr>\n",
       "      <th>3</th>\n",
       "      <td>-6.779</td>\n",
       "      <td>39.241</td>\n",
       "    </tr>\n",
       "    <tr>\n",
       "      <th>4</th>\n",
       "      <td>-6.828</td>\n",
       "      <td>39.310</td>\n",
       "    </tr>\n",
       "  </tbody>\n",
       "</table>\n",
       "</div>"
      ],
      "text/plain": [
       "   latitude  longitude\n",
       "0    -2.369     33.577\n",
       "1    -2.532     32.948\n",
       "2    -6.842     39.211\n",
       "3    -6.779     39.241\n",
       "4    -6.828     39.310"
      ]
     },
     "execution_count": 23,
     "metadata": {},
     "output_type": "execute_result"
    }
   ],
   "source": [
    "X.head()\n",
    "#X_test.tail()"
   ]
  },
  {
   "cell_type": "code",
   "execution_count": 24,
   "metadata": {},
   "outputs": [],
   "source": [
    "from sklearn.model_selection import cross_val_score\n",
    "\n",
    "from sklearn.linear_model import LogisticRegression\n",
    "from sklearn.ensemble import RandomForestClassifier\n",
    "import lightgbm as lgb\n",
    "import xgboost as xgb\n",
    "\n",
    "logReg = LogisticRegression()\n",
    "rfc = RandomForestClassifier()\n",
    "lgbm = lgb.LGBMClassifier()\n",
    "xgbt = xgb.XGBClassifier()"
   ]
  },
  {
   "cell_type": "code",
   "execution_count": 25,
   "metadata": {},
   "outputs": [
    {
     "data": {
      "text/plain": [
       "0.7117469592335179"
      ]
     },
     "execution_count": 25,
     "metadata": {},
     "output_type": "execute_result"
    }
   ],
   "source": [
    "logReg.fit(X_train, y_train)\n",
    "logReg_pred = logReg.predict(X_test)\n",
    "\n",
    "(cross_val_score(logReg, X_train, y_train, cv=5).mean())"
   ]
  },
  {
   "cell_type": "code",
   "execution_count": 26,
   "metadata": {},
   "outputs": [
    {
     "data": {
      "text/plain": [
       "0.9883254860057443"
      ]
     },
     "execution_count": 26,
     "metadata": {},
     "output_type": "execute_result"
    }
   ],
   "source": [
    "rfc.fit(X_train, y_train)\n",
    "rfc_pred = rfc.predict(X_test)\n",
    "\n",
    "(cross_val_score(rfc, X_train, y_train, cv=5).mean())"
   ]
  },
  {
   "cell_type": "code",
   "execution_count": 27,
   "metadata": {},
   "outputs": [
    {
     "data": {
      "text/plain": [
       "0.9867502460277466"
      ]
     },
     "execution_count": 27,
     "metadata": {},
     "output_type": "execute_result"
    }
   ],
   "source": [
    "lgbm.fit(X_train, y_train)\n",
    "lgbm_pred = lgbm.predict(X_test)\n",
    "\n",
    "(cross_val_score(lgbm, X_train, y_train, cv=5).mean())"
   ]
  },
  {
   "cell_type": "code",
   "execution_count": 28,
   "metadata": {},
   "outputs": [],
   "source": [
    "xgbt.fit(X_train, y_train)\n",
    "xgbt_pred = xgbt.predict(X_test)\n",
    "\n",
    "#(cross_val_score(xgbt, X_train, y_train, cv=5).mean())"
   ]
  },
  {
   "cell_type": "code",
   "execution_count": 29,
   "metadata": {},
   "outputs": [
    {
     "data": {
      "text/plain": [
       "XGBClassifier(base_score=0.5, booster='gbtree', colsample_bylevel=1,\n",
       "       colsample_bynode=1, colsample_bytree=1, gamma=0, learning_rate=0.1,\n",
       "       max_delta_step=0, max_depth=3, min_child_weight=1, missing=None,\n",
       "       n_estimators=100, n_jobs=1, nthread=None,\n",
       "       objective='multi:softprob', random_state=0, reg_alpha=0,\n",
       "       reg_lambda=1, scale_pos_weight=1, seed=None, silent=None,\n",
       "       subsample=1, verbosity=1)"
      ]
     },
     "execution_count": 29,
     "metadata": {},
     "output_type": "execute_result"
    }
   ],
   "source": [
    "xgbt.fit(X, y)"
   ]
  },
  {
   "cell_type": "code",
   "execution_count": null,
   "metadata": {},
   "outputs": [],
   "source": []
  },
  {
   "cell_type": "code",
   "execution_count": 30,
   "metadata": {},
   "outputs": [],
   "source": [
    "train_data = pd.read_csv('training.csv', encoding = \"ISO-8859-1\")\n",
    "test_data = pd.read_csv('test.csv', encoding = \"ISO-8859-1\")"
   ]
  },
  {
   "cell_type": "code",
   "execution_count": 31,
   "metadata": {},
   "outputs": [
    {
     "data": {
      "text/html": [
       "<div>\n",
       "<style scoped>\n",
       "    .dataframe tbody tr th:only-of-type {\n",
       "        vertical-align: middle;\n",
       "    }\n",
       "\n",
       "    .dataframe tbody tr th {\n",
       "        vertical-align: top;\n",
       "    }\n",
       "\n",
       "    .dataframe thead th {\n",
       "        text-align: right;\n",
       "    }\n",
       "</style>\n",
       "<table border=\"1\" class=\"dataframe\">\n",
       "  <thead>\n",
       "    <tr style=\"text-align: right;\">\n",
       "      <th></th>\n",
       "      <th>ID</th>\n",
       "      <th>Q1</th>\n",
       "      <th>Q2</th>\n",
       "      <th>Q3</th>\n",
       "      <th>Q4</th>\n",
       "      <th>Q5</th>\n",
       "      <th>Q6</th>\n",
       "      <th>Q7</th>\n",
       "      <th>Q8_1</th>\n",
       "      <th>Q8_2</th>\n",
       "      <th>...</th>\n",
       "      <th>Q17</th>\n",
       "      <th>Q18</th>\n",
       "      <th>Q19</th>\n",
       "      <th>Latitude</th>\n",
       "      <th>Longitude</th>\n",
       "      <th>mobile_money</th>\n",
       "      <th>savings</th>\n",
       "      <th>borrowing</th>\n",
       "      <th>insurance</th>\n",
       "      <th>mobile_money_classification</th>\n",
       "    </tr>\n",
       "  </thead>\n",
       "  <tbody>\n",
       "    <tr>\n",
       "      <th>0</th>\n",
       "      <td>5086</td>\n",
       "      <td>98</td>\n",
       "      <td>2</td>\n",
       "      <td>3</td>\n",
       "      <td>1</td>\n",
       "      <td>1</td>\n",
       "      <td>2</td>\n",
       "      <td>2</td>\n",
       "      <td>0</td>\n",
       "      <td>0</td>\n",
       "      <td>...</td>\n",
       "      <td>-1</td>\n",
       "      <td>4</td>\n",
       "      <td>4</td>\n",
       "      <td>-4.460</td>\n",
       "      <td>29.811</td>\n",
       "      <td>0</td>\n",
       "      <td>0</td>\n",
       "      <td>0</td>\n",
       "      <td>0</td>\n",
       "      <td>0</td>\n",
       "    </tr>\n",
       "    <tr>\n",
       "      <th>1</th>\n",
       "      <td>1258</td>\n",
       "      <td>40</td>\n",
       "      <td>1</td>\n",
       "      <td>1</td>\n",
       "      <td>3</td>\n",
       "      <td>5</td>\n",
       "      <td>1</td>\n",
       "      <td>1</td>\n",
       "      <td>1</td>\n",
       "      <td>0</td>\n",
       "      <td>...</td>\n",
       "      <td>4</td>\n",
       "      <td>1</td>\n",
       "      <td>4</td>\n",
       "      <td>-6.176</td>\n",
       "      <td>39.245</td>\n",
       "      <td>1</td>\n",
       "      <td>1</td>\n",
       "      <td>1</td>\n",
       "      <td>0</td>\n",
       "      <td>3</td>\n",
       "    </tr>\n",
       "    <tr>\n",
       "      <th>2</th>\n",
       "      <td>331</td>\n",
       "      <td>18</td>\n",
       "      <td>2</td>\n",
       "      <td>4</td>\n",
       "      <td>6</td>\n",
       "      <td>3</td>\n",
       "      <td>2</td>\n",
       "      <td>1</td>\n",
       "      <td>0</td>\n",
       "      <td>0</td>\n",
       "      <td>...</td>\n",
       "      <td>-1</td>\n",
       "      <td>1</td>\n",
       "      <td>1</td>\n",
       "      <td>-6.826</td>\n",
       "      <td>37.653</td>\n",
       "      <td>1</td>\n",
       "      <td>0</td>\n",
       "      <td>0</td>\n",
       "      <td>0</td>\n",
       "      <td>2</td>\n",
       "    </tr>\n",
       "    <tr>\n",
       "      <th>3</th>\n",
       "      <td>6729</td>\n",
       "      <td>50</td>\n",
       "      <td>1</td>\n",
       "      <td>1</td>\n",
       "      <td>3</td>\n",
       "      <td>1</td>\n",
       "      <td>1</td>\n",
       "      <td>1</td>\n",
       "      <td>0</td>\n",
       "      <td>0</td>\n",
       "      <td>...</td>\n",
       "      <td>-1</td>\n",
       "      <td>1</td>\n",
       "      <td>4</td>\n",
       "      <td>-3.372</td>\n",
       "      <td>35.808</td>\n",
       "      <td>1</td>\n",
       "      <td>0</td>\n",
       "      <td>1</td>\n",
       "      <td>0</td>\n",
       "      <td>3</td>\n",
       "    </tr>\n",
       "  </tbody>\n",
       "</table>\n",
       "<p>4 rows × 37 columns</p>\n",
       "</div>"
      ],
      "text/plain": [
       "     ID  Q1  Q2  Q3  Q4  Q5  Q6  Q7  Q8_1  Q8_2  ...  Q17  Q18  Q19  Latitude  \\\n",
       "0  5086  98   2   3   1   1   2   2     0     0  ...   -1    4    4    -4.460   \n",
       "1  1258  40   1   1   3   5   1   1     1     0  ...    4    1    4    -6.176   \n",
       "2   331  18   2   4   6   3   2   1     0     0  ...   -1    1    1    -6.826   \n",
       "3  6729  50   1   1   3   1   1   1     0     0  ...   -1    1    4    -3.372   \n",
       "\n",
       "   Longitude  mobile_money  savings  borrowing  insurance  \\\n",
       "0     29.811             0        0          0          0   \n",
       "1     39.245             1        1          1          0   \n",
       "2     37.653             1        0          0          0   \n",
       "3     35.808             1        0          1          0   \n",
       "\n",
       "   mobile_money_classification  \n",
       "0                            0  \n",
       "1                            3  \n",
       "2                            2  \n",
       "3                            3  \n",
       "\n",
       "[4 rows x 37 columns]"
      ]
     },
     "execution_count": 31,
     "metadata": {},
     "output_type": "execute_result"
    }
   ],
   "source": [
    "train_data.head(4)"
   ]
  },
  {
   "cell_type": "code",
   "execution_count": 32,
   "metadata": {},
   "outputs": [
    {
     "data": {
      "text/html": [
       "<div>\n",
       "<style scoped>\n",
       "    .dataframe tbody tr th:only-of-type {\n",
       "        vertical-align: middle;\n",
       "    }\n",
       "\n",
       "    .dataframe tbody tr th {\n",
       "        vertical-align: top;\n",
       "    }\n",
       "\n",
       "    .dataframe thead th {\n",
       "        text-align: right;\n",
       "    }\n",
       "</style>\n",
       "<table border=\"1\" class=\"dataframe\">\n",
       "  <thead>\n",
       "    <tr style=\"text-align: right;\">\n",
       "      <th></th>\n",
       "      <th>ID</th>\n",
       "      <th>Q1</th>\n",
       "      <th>Q2</th>\n",
       "      <th>Q3</th>\n",
       "      <th>Q4</th>\n",
       "      <th>Q5</th>\n",
       "      <th>Q6</th>\n",
       "      <th>Q7</th>\n",
       "      <th>Q8_1</th>\n",
       "      <th>Q8_2</th>\n",
       "      <th>...</th>\n",
       "      <th>Q12</th>\n",
       "      <th>Q13</th>\n",
       "      <th>Q14</th>\n",
       "      <th>Q15</th>\n",
       "      <th>Q16</th>\n",
       "      <th>Q17</th>\n",
       "      <th>Q18</th>\n",
       "      <th>Q19</th>\n",
       "      <th>Latitude</th>\n",
       "      <th>Longitude</th>\n",
       "    </tr>\n",
       "  </thead>\n",
       "  <tbody>\n",
       "    <tr>\n",
       "      <th>2361</th>\n",
       "      <td>5651</td>\n",
       "      <td>50</td>\n",
       "      <td>2</td>\n",
       "      <td>1</td>\n",
       "      <td>3</td>\n",
       "      <td>1</td>\n",
       "      <td>2</td>\n",
       "      <td>2</td>\n",
       "      <td>0</td>\n",
       "      <td>0</td>\n",
       "      <td>...</td>\n",
       "      <td>2</td>\n",
       "      <td>-1</td>\n",
       "      <td>2</td>\n",
       "      <td>-1</td>\n",
       "      <td>1</td>\n",
       "      <td>-1</td>\n",
       "      <td>4</td>\n",
       "      <td>4</td>\n",
       "      <td>-3.410</td>\n",
       "      <td>31.510</td>\n",
       "    </tr>\n",
       "    <tr>\n",
       "      <th>2362</th>\n",
       "      <td>6463</td>\n",
       "      <td>49</td>\n",
       "      <td>1</td>\n",
       "      <td>1</td>\n",
       "      <td>2</td>\n",
       "      <td>1</td>\n",
       "      <td>1</td>\n",
       "      <td>1</td>\n",
       "      <td>0</td>\n",
       "      <td>1</td>\n",
       "      <td>...</td>\n",
       "      <td>2</td>\n",
       "      <td>-1</td>\n",
       "      <td>2</td>\n",
       "      <td>-1</td>\n",
       "      <td>1</td>\n",
       "      <td>-1</td>\n",
       "      <td>1</td>\n",
       "      <td>4</td>\n",
       "      <td>-3.372</td>\n",
       "      <td>33.911</td>\n",
       "    </tr>\n",
       "    <tr>\n",
       "      <th>2363</th>\n",
       "      <td>1508</td>\n",
       "      <td>28</td>\n",
       "      <td>2</td>\n",
       "      <td>1</td>\n",
       "      <td>3</td>\n",
       "      <td>5</td>\n",
       "      <td>2</td>\n",
       "      <td>1</td>\n",
       "      <td>0</td>\n",
       "      <td>1</td>\n",
       "      <td>...</td>\n",
       "      <td>2</td>\n",
       "      <td>-1</td>\n",
       "      <td>2</td>\n",
       "      <td>-1</td>\n",
       "      <td>1</td>\n",
       "      <td>-1</td>\n",
       "      <td>4</td>\n",
       "      <td>4</td>\n",
       "      <td>-1.682</td>\n",
       "      <td>33.707</td>\n",
       "    </tr>\n",
       "    <tr>\n",
       "      <th>2364</th>\n",
       "      <td>8385</td>\n",
       "      <td>70</td>\n",
       "      <td>2</td>\n",
       "      <td>3</td>\n",
       "      <td>1</td>\n",
       "      <td>1</td>\n",
       "      <td>1</td>\n",
       "      <td>2</td>\n",
       "      <td>0</td>\n",
       "      <td>0</td>\n",
       "      <td>...</td>\n",
       "      <td>2</td>\n",
       "      <td>-1</td>\n",
       "      <td>2</td>\n",
       "      <td>-1</td>\n",
       "      <td>1</td>\n",
       "      <td>-1</td>\n",
       "      <td>4</td>\n",
       "      <td>4</td>\n",
       "      <td>-2.457</td>\n",
       "      <td>33.637</td>\n",
       "    </tr>\n",
       "  </tbody>\n",
       "</table>\n",
       "<p>4 rows × 32 columns</p>\n",
       "</div>"
      ],
      "text/plain": [
       "        ID  Q1  Q2  Q3  Q4  Q5  Q6  Q7  Q8_1  Q8_2  ...  Q12  Q13  Q14  Q15  \\\n",
       "2361  5651  50   2   1   3   1   2   2     0     0  ...    2   -1    2   -1   \n",
       "2362  6463  49   1   1   2   1   1   1     0     1  ...    2   -1    2   -1   \n",
       "2363  1508  28   2   1   3   5   2   1     0     1  ...    2   -1    2   -1   \n",
       "2364  8385  70   2   3   1   1   1   2     0     0  ...    2   -1    2   -1   \n",
       "\n",
       "      Q16  Q17  Q18  Q19  Latitude  Longitude  \n",
       "2361    1   -1    4    4    -3.410     31.510  \n",
       "2362    1   -1    1    4    -3.372     33.911  \n",
       "2363    1   -1    4    4    -1.682     33.707  \n",
       "2364    1   -1    4    4    -2.457     33.637  \n",
       "\n",
       "[4 rows x 32 columns]"
      ]
     },
     "execution_count": 32,
     "metadata": {},
     "output_type": "execute_result"
    }
   ],
   "source": [
    "test_data.tail(4)"
   ]
  },
  {
   "cell_type": "code",
   "execution_count": 33,
   "metadata": {},
   "outputs": [],
   "source": [
    "train = train_data[['Latitude', 'Longitude']].rename(columns={'Latitude' : 'latitude', 'Longitude' : 'longitude'})\n",
    "test = test_data[['Latitude', 'Longitude']].rename(columns={'Latitude' : 'latitude', 'Longitude' : 'longitude'})\n",
    "\n",
    "#train.head(3)"
   ]
  },
  {
   "cell_type": "code",
   "execution_count": 34,
   "metadata": {},
   "outputs": [],
   "source": [
    "train_region = xgbt.predict(train)\n",
    "test_region = xgbt.predict(test)"
   ]
  },
  {
   "cell_type": "code",
   "execution_count": 35,
   "metadata": {},
   "outputs": [
    {
     "data": {
      "text/plain": [
       "array([ 5, 21, 11, ..., 15, 11, 20], dtype=int8)"
      ]
     },
     "execution_count": 35,
     "metadata": {},
     "output_type": "execute_result"
    }
   ],
   "source": [
    "train_region"
   ]
  },
  {
   "cell_type": "code",
   "execution_count": 36,
   "metadata": {},
   "outputs": [
    {
     "data": {
      "text/plain": [
       "array([13,  9,  4, ..., 17,  9, 13], dtype=int8)"
      ]
     },
     "execution_count": 36,
     "metadata": {},
     "output_type": "execute_result"
    }
   ],
   "source": [
    "test_region"
   ]
  },
  {
   "cell_type": "code",
   "execution_count": 37,
   "metadata": {},
   "outputs": [
    {
     "data": {
      "text/plain": [
       "{13: 'Mwanza',\n",
       " 1: 'Dar es Salaam',\n",
       " 0: 'Arusha',\n",
       " 14: 'Pwani',\n",
       " 19: 'Tabora',\n",
       " 7: 'Lindi',\n",
       " 18: 'Singida',\n",
       " 6: 'Kilimanjaro',\n",
       " 2: 'Dodoma',\n",
       " 11: 'Morogoro',\n",
       " 3: 'Iringa',\n",
       " 8: 'Manyara',\n",
       " 12: 'Mtwara',\n",
       " 20: 'Tanga',\n",
       " 10: 'Mbeya',\n",
       " 5: 'Kigoma',\n",
       " 17: 'Shinyanga',\n",
       " 9: 'Mara',\n",
       " 16: 'Ruvuma',\n",
       " 4: 'Kagera',\n",
       " 21: 'Zanzibar',\n",
       " 15: 'Rukwa'}"
      ]
     },
     "execution_count": 37,
     "metadata": {},
     "output_type": "execute_result"
    }
   ],
   "source": [
    "mapping_dict = dict(zip(name_vs_label['region_label'], name_vs_label['region_name']))\n",
    "mapping_dict"
   ]
  },
  {
   "cell_type": "code",
   "execution_count": 38,
   "metadata": {},
   "outputs": [],
   "source": [
    "train_region = pd.DataFrame(train_region, columns=['region'])\n",
    "test_region = pd.DataFrame(test_region, columns=['region'])\n",
    "\n",
    "train_region = train_region['region'].map(mapping_dict).to_frame()\n",
    "test_region = test_region['region'].map(mapping_dict).to_frame()"
   ]
  },
  {
   "cell_type": "code",
   "execution_count": 39,
   "metadata": {},
   "outputs": [
    {
     "data": {
      "text/html": [
       "<div>\n",
       "<style scoped>\n",
       "    .dataframe tbody tr th:only-of-type {\n",
       "        vertical-align: middle;\n",
       "    }\n",
       "\n",
       "    .dataframe tbody tr th {\n",
       "        vertical-align: top;\n",
       "    }\n",
       "\n",
       "    .dataframe thead th {\n",
       "        text-align: right;\n",
       "    }\n",
       "</style>\n",
       "<table border=\"1\" class=\"dataframe\">\n",
       "  <thead>\n",
       "    <tr style=\"text-align: right;\">\n",
       "      <th></th>\n",
       "      <th>region</th>\n",
       "    </tr>\n",
       "  </thead>\n",
       "  <tbody>\n",
       "    <tr>\n",
       "      <th>0</th>\n",
       "      <td>Kigoma</td>\n",
       "    </tr>\n",
       "    <tr>\n",
       "      <th>1</th>\n",
       "      <td>Zanzibar</td>\n",
       "    </tr>\n",
       "    <tr>\n",
       "      <th>2</th>\n",
       "      <td>Morogoro</td>\n",
       "    </tr>\n",
       "    <tr>\n",
       "      <th>3</th>\n",
       "      <td>Arusha</td>\n",
       "    </tr>\n",
       "    <tr>\n",
       "      <th>4</th>\n",
       "      <td>Rukwa</td>\n",
       "    </tr>\n",
       "  </tbody>\n",
       "</table>\n",
       "</div>"
      ],
      "text/plain": [
       "     region\n",
       "0    Kigoma\n",
       "1  Zanzibar\n",
       "2  Morogoro\n",
       "3    Arusha\n",
       "4     Rukwa"
      ]
     },
     "execution_count": 39,
     "metadata": {},
     "output_type": "execute_result"
    }
   ],
   "source": [
    "train_region.head()"
   ]
  },
  {
   "cell_type": "code",
   "execution_count": 40,
   "metadata": {},
   "outputs": [],
   "source": [
    "train_region.to_csv('trainRegion.csv', index=False)\n",
    "test_region.to_csv('testRegion.csv', index=False)"
   ]
  },
  {
   "cell_type": "code",
   "execution_count": null,
   "metadata": {},
   "outputs": [],
   "source": []
  },
  {
   "cell_type": "code",
   "execution_count": null,
   "metadata": {},
   "outputs": [],
   "source": []
  },
  {
   "cell_type": "markdown",
   "metadata": {},
   "source": [
    "GET THE DISTRICT OF THE LONGITUDE & LATITUDE OF THE TRAINING SET AND TEST SET"
   ]
  },
  {
   "cell_type": "code",
   "execution_count": 41,
   "metadata": {},
   "outputs": [],
   "source": [
    "fsdt['district'] = fsdt['district'].astype('category')"
   ]
  },
  {
   "cell_type": "code",
   "execution_count": 42,
   "metadata": {},
   "outputs": [
    {
     "data": {
      "text/html": [
       "<div>\n",
       "<style scoped>\n",
       "    .dataframe tbody tr th:only-of-type {\n",
       "        vertical-align: middle;\n",
       "    }\n",
       "\n",
       "    .dataframe tbody tr th {\n",
       "        vertical-align: top;\n",
       "    }\n",
       "\n",
       "    .dataframe thead th {\n",
       "        text-align: right;\n",
       "    }\n",
       "</style>\n",
       "<table border=\"1\" class=\"dataframe\">\n",
       "  <thead>\n",
       "    <tr style=\"text-align: right;\">\n",
       "      <th></th>\n",
       "      <th>region</th>\n",
       "      <th>district</th>\n",
       "      <th>ward</th>\n",
       "      <th>latitude</th>\n",
       "      <th>longitude</th>\n",
       "    </tr>\n",
       "  </thead>\n",
       "  <tbody>\n",
       "    <tr>\n",
       "      <th>0</th>\n",
       "      <td>13</td>\n",
       "      <td>53</td>\n",
       "      <td>Nyanguge</td>\n",
       "      <td>-2.369</td>\n",
       "      <td>33.577</td>\n",
       "    </tr>\n",
       "    <tr>\n",
       "      <th>1</th>\n",
       "      <td>13</td>\n",
       "      <td>21</td>\n",
       "      <td>Nyakato</td>\n",
       "      <td>-2.532</td>\n",
       "      <td>32.948</td>\n",
       "    </tr>\n",
       "    <tr>\n",
       "      <th>2</th>\n",
       "      <td>1</td>\n",
       "      <td>19</td>\n",
       "      <td>Segerea</td>\n",
       "      <td>-6.842</td>\n",
       "      <td>39.211</td>\n",
       "    </tr>\n",
       "    <tr>\n",
       "      <th>3</th>\n",
       "      <td>1</td>\n",
       "      <td>38</td>\n",
       "      <td>Kijitonyama</td>\n",
       "      <td>-6.779</td>\n",
       "      <td>39.241</td>\n",
       "    </tr>\n",
       "    <tr>\n",
       "      <th>4</th>\n",
       "      <td>1</td>\n",
       "      <td>118</td>\n",
       "      <td>Kigamboni</td>\n",
       "      <td>-6.828</td>\n",
       "      <td>39.310</td>\n",
       "    </tr>\n",
       "  </tbody>\n",
       "</table>\n",
       "</div>"
      ],
      "text/plain": [
       "   region  district         ward  latitude  longitude\n",
       "0      13        53     Nyanguge    -2.369     33.577\n",
       "1      13        21      Nyakato    -2.532     32.948\n",
       "2       1        19      Segerea    -6.842     39.211\n",
       "3       1        38  Kijitonyama    -6.779     39.241\n",
       "4       1       118    Kigamboni    -6.828     39.310"
      ]
     },
     "execution_count": 42,
     "metadata": {},
     "output_type": "execute_result"
    }
   ],
   "source": [
    "cat_column = fsdt.select_dtypes(include='category')\n",
    "\n",
    "fsdt['district'] = cat_column.apply(lambda x: x.cat.codes)\n",
    "fsdt.head()"
   ]
  },
  {
   "cell_type": "code",
   "execution_count": 43,
   "metadata": {},
   "outputs": [],
   "source": [
    "district_with_label = pd.concat([original_fsdt['district'], fsdt['district']], axis=1)\n",
    "\n",
    "district_with_label.columns = ['district_name', 'district_label']"
   ]
  },
  {
   "cell_type": "code",
   "execution_count": 44,
   "metadata": {},
   "outputs": [
    {
     "data": {
      "text/html": [
       "<div>\n",
       "<style scoped>\n",
       "    .dataframe tbody tr th:only-of-type {\n",
       "        vertical-align: middle;\n",
       "    }\n",
       "\n",
       "    .dataframe tbody tr th {\n",
       "        vertical-align: top;\n",
       "    }\n",
       "\n",
       "    .dataframe thead th {\n",
       "        text-align: right;\n",
       "    }\n",
       "</style>\n",
       "<table border=\"1\" class=\"dataframe\">\n",
       "  <thead>\n",
       "    <tr style=\"text-align: right;\">\n",
       "      <th></th>\n",
       "      <th>district_name</th>\n",
       "      <th>district_label</th>\n",
       "    </tr>\n",
       "  </thead>\n",
       "  <tbody>\n",
       "    <tr>\n",
       "      <th>26736</th>\n",
       "      <td>Ilala</td>\n",
       "      <td>19</td>\n",
       "    </tr>\n",
       "    <tr>\n",
       "      <th>27036</th>\n",
       "      <td>Iringa Urban</td>\n",
       "      <td>24</td>\n",
       "    </tr>\n",
       "    <tr>\n",
       "      <th>19098</th>\n",
       "      <td>Moshi Rural</td>\n",
       "      <td>71</td>\n",
       "    </tr>\n",
       "  </tbody>\n",
       "</table>\n",
       "</div>"
      ],
      "text/plain": [
       "      district_name  district_label\n",
       "26736         Ilala              19\n",
       "27036  Iringa Urban              24\n",
       "19098   Moshi Rural              71"
      ]
     },
     "execution_count": 44,
     "metadata": {},
     "output_type": "execute_result"
    }
   ],
   "source": [
    "district_with_label.sample(3)"
   ]
  },
  {
   "cell_type": "code",
   "execution_count": 45,
   "metadata": {},
   "outputs": [],
   "source": [
    "y = fsdt['district']\n",
    "X = fsdt[['latitude', 'longitude']]\n",
    "\n",
    "X_train, X_test, y_train, y_test = train_test_split(X, y, stratify=y, test_size=0.2, random_state=42)"
   ]
  },
  {
   "cell_type": "code",
   "execution_count": 46,
   "metadata": {},
   "outputs": [],
   "source": [
    "#xgbt.fit(X_train, y_train)\n",
    "#xgbt_pred = xgbt.predict(X_test)\n",
    "#(cross_val_score(xgbt, X_train, y_train, cv=5).mean())"
   ]
  },
  {
   "cell_type": "code",
   "execution_count": 47,
   "metadata": {},
   "outputs": [
    {
     "data": {
      "text/plain": [
       "XGBClassifier(base_score=0.5, booster='gbtree', colsample_bylevel=1,\n",
       "       colsample_bynode=1, colsample_bytree=1, gamma=0, learning_rate=0.1,\n",
       "       max_delta_step=0, max_depth=3, min_child_weight=1, missing=None,\n",
       "       n_estimators=100, n_jobs=1, nthread=None,\n",
       "       objective='multi:softprob', random_state=0, reg_alpha=0,\n",
       "       reg_lambda=1, scale_pos_weight=1, seed=None, silent=None,\n",
       "       subsample=1, verbosity=1)"
      ]
     },
     "execution_count": 47,
     "metadata": {},
     "output_type": "execute_result"
    }
   ],
   "source": [
    "xgbt.fit(X, y)"
   ]
  },
  {
   "cell_type": "code",
   "execution_count": 48,
   "metadata": {},
   "outputs": [],
   "source": [
    "train_district = xgbt.predict(train)\n",
    "test_district = xgbt.predict(test)"
   ]
  },
  {
   "cell_type": "code",
   "execution_count": 49,
   "metadata": {},
   "outputs": [
    {
     "data": {
      "text/plain": [
       "{53: 'Magu',\n",
       " 21: 'Ilemela',\n",
       " 19: 'Ilala',\n",
       " 38: 'Kinondoni',\n",
       " 118: 'Temeke',\n",
       " 1: 'Arusha',\n",
       " 3: 'Bagamoyo',\n",
       " 93: 'Nzega',\n",
       " 37: 'Kilwa',\n",
       " 84: 'Nachingwea',\n",
       " 48: 'Lindi Urban',\n",
       " 114: 'Tabora Urban',\n",
       " 109: 'Singida Urban',\n",
       " 15: 'Hai',\n",
       " 13: 'Dodoma Urban',\n",
       " 36: 'Kilosa',\n",
       " 24: 'Iringa Urban',\n",
       " 41: 'Kiteto',\n",
       " 92: 'Nyamagana',\n",
       " 35: 'Kilombero',\n",
       " 70: 'Morogoro Urban',\n",
       " 72: 'Moshi Urban',\n",
       " 76: 'Mtwara Urban',\n",
       " 18: 'Igunga',\n",
       " 105: 'Siha',\n",
       " 29: 'Kibaha',\n",
       " 44: 'Korogwe',\n",
       " 45: 'Kwimba',\n",
       " 95: 'Rombo',\n",
       " 12: 'Dodoma Rural',\n",
       " 122: 'Uyui',\n",
       " 60: 'Mbeya Urban',\n",
       " 90: 'Njombe',\n",
       " 67: 'Mkuranga',\n",
       " 83: 'Mwanga',\n",
       " 62: 'Mbozi',\n",
       " 20: 'Ileje',\n",
       " 32: 'Kigoma Urban',\n",
       " 116: 'Tanga',\n",
       " 25: 'Kahama',\n",
       " 71: 'Moshi Rural',\n",
       " 49: 'Liwale',\n",
       " 81: 'Musoma Urban',\n",
       " 102: 'Serengeti',\n",
       " 4: 'Bariadi',\n",
       " 111: 'Songea Urban',\n",
       " 74: 'Mpwapwa',\n",
       " 31: 'Kigoma Rural',\n",
       " 0: 'Arumeru',\n",
       " 103: 'Shinyanga Rural',\n",
       " 50: 'Ludewa',\n",
       " 28: 'Kasulu',\n",
       " 7: 'Bukoba Urban',\n",
       " 39: 'Kisarawe',\n",
       " 117: 'Tarime',\n",
       " 51: 'Lushoto',\n",
       " 33: 'Kilindi',\n",
       " 100: 'Same',\n",
       " 27: 'Karatu',\n",
       " 22: 'Iramba',\n",
       " 66: 'Misungwi',\n",
       " 30: 'Kibondo',\n",
       " 47: 'Lindi Rural',\n",
       " 61: 'Mbinga',\n",
       " 17: 'Handeni',\n",
       " 87: 'Newala',\n",
       " 8: 'Bukombe',\n",
       " 40: 'Kishapu',\n",
       " 2: 'Babati',\n",
       " 82: 'Mvomero',\n",
       " 115: 'Tandahimba',\n",
       " 104: 'Shinyanga Urban',\n",
       " 34: 'Kilolo',\n",
       " 101: 'Sengerema',\n",
       " 42: 'Kondoa',\n",
       " 23: 'Iringa Rural',\n",
       " 121: 'Urambo',\n",
       " 106: 'Sikonge',\n",
       " 96: 'Rorya',\n",
       " 9: 'Bunda',\n",
       " 55: 'Manyoni',\n",
       " 68: 'Monduli',\n",
       " 69: 'Morogoro Rural',\n",
       " 59: 'Mbeya Rural',\n",
       " 77: 'Mufindi',\n",
       " 75: 'Mtwara Rural',\n",
       " 16: 'Hanang',\n",
       " 54: 'Makete',\n",
       " 94: 'Pangani',\n",
       " 98: 'Rufiji',\n",
       " 64: 'Meatu',\n",
       " 56: 'Masasi',\n",
       " 57: 'Maswa',\n",
       " 46: 'Kyela',\n",
       " 63: 'Mbulu',\n",
       " 97: 'Ruangwa',\n",
       " 43: 'Kongwa',\n",
       " 78: 'Muheza',\n",
       " 26: 'Karagwe',\n",
       " 123: 'Zanzibar',\n",
       " 5: 'Biharamulo',\n",
       " 58: 'Mbarali',\n",
       " 79: 'Muleba',\n",
       " 14: 'Geita',\n",
       " 10: 'Chato',\n",
       " 65: 'Misenyi',\n",
       " 99: 'Rungwe',\n",
       " 113: 'Sumbawanga Urban',\n",
       " 73: 'Mpanda',\n",
       " 11: 'Chunya',\n",
       " 91: 'Nkansi',\n",
       " 6: 'Bukoba Rural',\n",
       " 110: 'Songea Rural',\n",
       " 88: 'Ngara',\n",
       " 52: 'Mafia',\n",
       " 107: 'Simanjiro',\n",
       " 89: 'Ngorongoro',\n",
       " 108: 'Singida Rural',\n",
       " 119: 'Tunduru',\n",
       " 85: 'Namtumbo',\n",
       " 120: 'Ulanga',\n",
       " 112: 'Sumbawanga Rural',\n",
       " 86: 'Nanyumbu',\n",
       " 80: 'Musoma Rural'}"
      ]
     },
     "execution_count": 49,
     "metadata": {},
     "output_type": "execute_result"
    }
   ],
   "source": [
    "mapping_dict = dict(zip(district_with_label['district_label'], district_with_label['district_name']))\n",
    "mapping_dict"
   ]
  },
  {
   "cell_type": "code",
   "execution_count": 50,
   "metadata": {},
   "outputs": [],
   "source": [
    "train_district = pd.DataFrame(train_district, columns=['district'])\n",
    "test_district = pd.DataFrame(test_district, columns=['district'])\n",
    "\n",
    "train_district = train_district['district'].map(mapping_dict).to_frame()\n",
    "test_district = test_district['district'].map(mapping_dict).to_frame()"
   ]
  },
  {
   "cell_type": "code",
   "execution_count": 51,
   "metadata": {},
   "outputs": [],
   "source": [
    "#train_district"
   ]
  },
  {
   "cell_type": "code",
   "execution_count": 52,
   "metadata": {},
   "outputs": [],
   "source": [
    "train_district.to_csv('trainDistrict.csv', index=False)\n",
    "test_district.to_csv('testDistrict.csv', index=False)"
   ]
  },
  {
   "cell_type": "code",
   "execution_count": null,
   "metadata": {},
   "outputs": [],
   "source": []
  },
  {
   "cell_type": "raw",
   "metadata": {},
   "source": []
  },
  {
   "cell_type": "code",
   "execution_count": null,
   "metadata": {},
   "outputs": [],
   "source": []
  },
  {
   "cell_type": "code",
   "execution_count": 53,
   "metadata": {},
   "outputs": [
    {
     "data": {
      "text/html": [
       "<div>\n",
       "<style scoped>\n",
       "    .dataframe tbody tr th:only-of-type {\n",
       "        vertical-align: middle;\n",
       "    }\n",
       "\n",
       "    .dataframe tbody tr th {\n",
       "        vertical-align: top;\n",
       "    }\n",
       "\n",
       "    .dataframe thead th {\n",
       "        text-align: right;\n",
       "    }\n",
       "</style>\n",
       "<table border=\"1\" class=\"dataframe\">\n",
       "  <thead>\n",
       "    <tr style=\"text-align: right;\">\n",
       "      <th></th>\n",
       "      <th>region</th>\n",
       "      <th>district</th>\n",
       "      <th>ward</th>\n",
       "      <th>latitude</th>\n",
       "      <th>longitude</th>\n",
       "    </tr>\n",
       "  </thead>\n",
       "  <tbody>\n",
       "    <tr>\n",
       "      <th>0</th>\n",
       "      <td>Mwanza</td>\n",
       "      <td>Magu</td>\n",
       "      <td>Nyanguge</td>\n",
       "      <td>-2.369</td>\n",
       "      <td>33.577</td>\n",
       "    </tr>\n",
       "    <tr>\n",
       "      <th>1</th>\n",
       "      <td>Mwanza</td>\n",
       "      <td>Ilemela</td>\n",
       "      <td>Nyakato</td>\n",
       "      <td>-2.532</td>\n",
       "      <td>32.948</td>\n",
       "    </tr>\n",
       "    <tr>\n",
       "      <th>2</th>\n",
       "      <td>Dar es Salaam</td>\n",
       "      <td>Ilala</td>\n",
       "      <td>Segerea</td>\n",
       "      <td>-6.842</td>\n",
       "      <td>39.211</td>\n",
       "    </tr>\n",
       "    <tr>\n",
       "      <th>3</th>\n",
       "      <td>Dar es Salaam</td>\n",
       "      <td>Kinondoni</td>\n",
       "      <td>Kijitonyama</td>\n",
       "      <td>-6.779</td>\n",
       "      <td>39.241</td>\n",
       "    </tr>\n",
       "    <tr>\n",
       "      <th>4</th>\n",
       "      <td>Dar es Salaam</td>\n",
       "      <td>Temeke</td>\n",
       "      <td>Kigamboni</td>\n",
       "      <td>-6.828</td>\n",
       "      <td>39.310</td>\n",
       "    </tr>\n",
       "  </tbody>\n",
       "</table>\n",
       "</div>"
      ],
      "text/plain": [
       "          region   district         ward  latitude  longitude\n",
       "0         Mwanza       Magu     Nyanguge    -2.369     33.577\n",
       "1         Mwanza    Ilemela      Nyakato    -2.532     32.948\n",
       "2  Dar es Salaam      Ilala      Segerea    -6.842     39.211\n",
       "3  Dar es Salaam  Kinondoni  Kijitonyama    -6.779     39.241\n",
       "4  Dar es Salaam     Temeke    Kigamboni    -6.828     39.310"
      ]
     },
     "execution_count": 53,
     "metadata": {},
     "output_type": "execute_result"
    }
   ],
   "source": [
    "original_fsdt.head()"
   ]
  },
  {
   "cell_type": "code",
   "execution_count": 54,
   "metadata": {},
   "outputs": [],
   "source": [
    "get_long_lat = original_fsdt[['district', 'latitude', 'longitude']]"
   ]
  },
  {
   "cell_type": "code",
   "execution_count": 55,
   "metadata": {},
   "outputs": [
    {
     "data": {
      "text/html": [
       "<div>\n",
       "<style scoped>\n",
       "    .dataframe tbody tr th:only-of-type {\n",
       "        vertical-align: middle;\n",
       "    }\n",
       "\n",
       "    .dataframe tbody tr th {\n",
       "        vertical-align: top;\n",
       "    }\n",
       "\n",
       "    .dataframe thead th {\n",
       "        text-align: right;\n",
       "    }\n",
       "</style>\n",
       "<table border=\"1\" class=\"dataframe\">\n",
       "  <thead>\n",
       "    <tr style=\"text-align: right;\">\n",
       "      <th></th>\n",
       "      <th>district</th>\n",
       "      <th>latitude</th>\n",
       "      <th>longitude</th>\n",
       "    </tr>\n",
       "  </thead>\n",
       "  <tbody>\n",
       "    <tr>\n",
       "      <th>0</th>\n",
       "      <td>Magu</td>\n",
       "      <td>-2.369</td>\n",
       "      <td>33.577</td>\n",
       "    </tr>\n",
       "    <tr>\n",
       "      <th>1</th>\n",
       "      <td>Ilemela</td>\n",
       "      <td>-2.532</td>\n",
       "      <td>32.948</td>\n",
       "    </tr>\n",
       "    <tr>\n",
       "      <th>2</th>\n",
       "      <td>Ilala</td>\n",
       "      <td>-6.842</td>\n",
       "      <td>39.211</td>\n",
       "    </tr>\n",
       "    <tr>\n",
       "      <th>3</th>\n",
       "      <td>Kinondoni</td>\n",
       "      <td>-6.779</td>\n",
       "      <td>39.241</td>\n",
       "    </tr>\n",
       "    <tr>\n",
       "      <th>4</th>\n",
       "      <td>Temeke</td>\n",
       "      <td>-6.828</td>\n",
       "      <td>39.310</td>\n",
       "    </tr>\n",
       "  </tbody>\n",
       "</table>\n",
       "</div>"
      ],
      "text/plain": [
       "    district  latitude  longitude\n",
       "0       Magu    -2.369     33.577\n",
       "1    Ilemela    -2.532     32.948\n",
       "2      Ilala    -6.842     39.211\n",
       "3  Kinondoni    -6.779     39.241\n",
       "4     Temeke    -6.828     39.310"
      ]
     },
     "execution_count": 55,
     "metadata": {},
     "output_type": "execute_result"
    }
   ],
   "source": [
    "get_long_lat.head()"
   ]
  },
  {
   "cell_type": "code",
   "execution_count": 56,
   "metadata": {},
   "outputs": [
    {
     "data": {
      "text/html": [
       "<div>\n",
       "<style scoped>\n",
       "    .dataframe tbody tr th:only-of-type {\n",
       "        vertical-align: middle;\n",
       "    }\n",
       "\n",
       "    .dataframe tbody tr th {\n",
       "        vertical-align: top;\n",
       "    }\n",
       "\n",
       "    .dataframe thead th {\n",
       "        text-align: right;\n",
       "    }\n",
       "</style>\n",
       "<table border=\"1\" class=\"dataframe\">\n",
       "  <thead>\n",
       "    <tr style=\"text-align: right;\">\n",
       "      <th></th>\n",
       "      <th>district</th>\n",
       "      <th>latitude</th>\n",
       "      <th>longitude</th>\n",
       "    </tr>\n",
       "  </thead>\n",
       "  <tbody>\n",
       "    <tr>\n",
       "      <th>24118</th>\n",
       "      <td>Magu</td>\n",
       "      <td>-2.245</td>\n",
       "      <td>33.850</td>\n",
       "    </tr>\n",
       "    <tr>\n",
       "      <th>32182</th>\n",
       "      <td>Magu</td>\n",
       "      <td>-2.517</td>\n",
       "      <td>32.899</td>\n",
       "    </tr>\n",
       "    <tr>\n",
       "      <th>44528</th>\n",
       "      <td>Magu</td>\n",
       "      <td>-2.592</td>\n",
       "      <td>33.444</td>\n",
       "    </tr>\n",
       "    <tr>\n",
       "      <th>12518</th>\n",
       "      <td>Magu</td>\n",
       "      <td>-2.555</td>\n",
       "      <td>33.043</td>\n",
       "    </tr>\n",
       "    <tr>\n",
       "      <th>25122</th>\n",
       "      <td>Magu</td>\n",
       "      <td>-2.524</td>\n",
       "      <td>32.913</td>\n",
       "    </tr>\n",
       "  </tbody>\n",
       "</table>\n",
       "</div>"
      ],
      "text/plain": [
       "      district  latitude  longitude\n",
       "24118     Magu    -2.245     33.850\n",
       "32182     Magu    -2.517     32.899\n",
       "44528     Magu    -2.592     33.444\n",
       "12518     Magu    -2.555     33.043\n",
       "25122     Magu    -2.524     32.913"
      ]
     },
     "execution_count": 56,
     "metadata": {},
     "output_type": "execute_result"
    }
   ],
   "source": [
    "get_long_lat[get_long_lat['district']=='Magu'].sample(5)"
   ]
  },
  {
   "cell_type": "code",
   "execution_count": 57,
   "metadata": {},
   "outputs": [
    {
     "data": {
      "text/html": [
       "<div>\n",
       "<style scoped>\n",
       "    .dataframe tbody tr th:only-of-type {\n",
       "        vertical-align: middle;\n",
       "    }\n",
       "\n",
       "    .dataframe tbody tr th {\n",
       "        vertical-align: top;\n",
       "    }\n",
       "\n",
       "    .dataframe thead th {\n",
       "        text-align: right;\n",
       "    }\n",
       "</style>\n",
       "<table border=\"1\" class=\"dataframe\">\n",
       "  <thead>\n",
       "    <tr style=\"text-align: right;\">\n",
       "      <th></th>\n",
       "      <th>district</th>\n",
       "      <th>latitude</th>\n",
       "      <th>longitude</th>\n",
       "    </tr>\n",
       "  </thead>\n",
       "  <tbody>\n",
       "    <tr>\n",
       "      <th>8778</th>\n",
       "      <td>Ilemela</td>\n",
       "      <td>-2.545</td>\n",
       "      <td>32.983</td>\n",
       "    </tr>\n",
       "    <tr>\n",
       "      <th>38663</th>\n",
       "      <td>Ilemela</td>\n",
       "      <td>-2.537</td>\n",
       "      <td>32.977</td>\n",
       "    </tr>\n",
       "    <tr>\n",
       "      <th>41767</th>\n",
       "      <td>Ilemela</td>\n",
       "      <td>-2.454</td>\n",
       "      <td>32.912</td>\n",
       "    </tr>\n",
       "    <tr>\n",
       "      <th>42555</th>\n",
       "      <td>Ilemela</td>\n",
       "      <td>-2.504</td>\n",
       "      <td>32.898</td>\n",
       "    </tr>\n",
       "    <tr>\n",
       "      <th>44120</th>\n",
       "      <td>Ilemela</td>\n",
       "      <td>-2.545</td>\n",
       "      <td>32.980</td>\n",
       "    </tr>\n",
       "  </tbody>\n",
       "</table>\n",
       "</div>"
      ],
      "text/plain": [
       "      district  latitude  longitude\n",
       "8778   Ilemela    -2.545     32.983\n",
       "38663  Ilemela    -2.537     32.977\n",
       "41767  Ilemela    -2.454     32.912\n",
       "42555  Ilemela    -2.504     32.898\n",
       "44120  Ilemela    -2.545     32.980"
      ]
     },
     "execution_count": 57,
     "metadata": {},
     "output_type": "execute_result"
    }
   ],
   "source": [
    "get_long_lat[get_long_lat['district']=='Ilemela'].sample(5)"
   ]
  },
  {
   "cell_type": "code",
   "execution_count": 58,
   "metadata": {},
   "outputs": [
    {
     "data": {
      "text/html": [
       "<div>\n",
       "<style scoped>\n",
       "    .dataframe tbody tr th:only-of-type {\n",
       "        vertical-align: middle;\n",
       "    }\n",
       "\n",
       "    .dataframe tbody tr th {\n",
       "        vertical-align: top;\n",
       "    }\n",
       "\n",
       "    .dataframe thead th {\n",
       "        text-align: right;\n",
       "    }\n",
       "</style>\n",
       "<table border=\"1\" class=\"dataframe\">\n",
       "  <thead>\n",
       "    <tr style=\"text-align: right;\">\n",
       "      <th></th>\n",
       "      <th>district</th>\n",
       "      <th>latitude</th>\n",
       "      <th>longitude</th>\n",
       "    </tr>\n",
       "  </thead>\n",
       "  <tbody>\n",
       "    <tr>\n",
       "      <th>39030</th>\n",
       "      <td>Ilala</td>\n",
       "      <td>-6.859</td>\n",
       "      <td>39.237</td>\n",
       "    </tr>\n",
       "    <tr>\n",
       "      <th>6429</th>\n",
       "      <td>Ilala</td>\n",
       "      <td>-6.839</td>\n",
       "      <td>39.240</td>\n",
       "    </tr>\n",
       "    <tr>\n",
       "      <th>50302</th>\n",
       "      <td>Ilala</td>\n",
       "      <td>-6.903</td>\n",
       "      <td>39.201</td>\n",
       "    </tr>\n",
       "    <tr>\n",
       "      <th>3179</th>\n",
       "      <td>Ilala</td>\n",
       "      <td>-6.881</td>\n",
       "      <td>39.157</td>\n",
       "    </tr>\n",
       "    <tr>\n",
       "      <th>54392</th>\n",
       "      <td>Ilala</td>\n",
       "      <td>-6.817</td>\n",
       "      <td>39.280</td>\n",
       "    </tr>\n",
       "  </tbody>\n",
       "</table>\n",
       "</div>"
      ],
      "text/plain": [
       "      district  latitude  longitude\n",
       "39030    Ilala    -6.859     39.237\n",
       "6429     Ilala    -6.839     39.240\n",
       "50302    Ilala    -6.903     39.201\n",
       "3179     Ilala    -6.881     39.157\n",
       "54392    Ilala    -6.817     39.280"
      ]
     },
     "execution_count": 58,
     "metadata": {},
     "output_type": "execute_result"
    }
   ],
   "source": [
    "get_long_lat[get_long_lat['district']=='Ilala'].sample(5)"
   ]
  },
  {
   "cell_type": "code",
   "execution_count": 59,
   "metadata": {},
   "outputs": [],
   "source": [
    "train_district = pd.read_csv('trainDistrict.csv')\n",
    "test_district = pd.read_csv('testDistrict.csv')"
   ]
  },
  {
   "cell_type": "code",
   "execution_count": 69,
   "metadata": {},
   "outputs": [
    {
     "data": {
      "text/html": [
       "<div>\n",
       "<style scoped>\n",
       "    .dataframe tbody tr th:only-of-type {\n",
       "        vertical-align: middle;\n",
       "    }\n",
       "\n",
       "    .dataframe tbody tr th {\n",
       "        vertical-align: top;\n",
       "    }\n",
       "\n",
       "    .dataframe thead th {\n",
       "        text-align: right;\n",
       "    }\n",
       "</style>\n",
       "<table border=\"1\" class=\"dataframe\">\n",
       "  <thead>\n",
       "    <tr style=\"text-align: right;\">\n",
       "      <th></th>\n",
       "      <th>district</th>\n",
       "    </tr>\n",
       "  </thead>\n",
       "  <tbody>\n",
       "    <tr>\n",
       "      <th>0</th>\n",
       "      <td>Kasulu</td>\n",
       "    </tr>\n",
       "    <tr>\n",
       "      <th>1</th>\n",
       "      <td>Zanzibar</td>\n",
       "    </tr>\n",
       "    <tr>\n",
       "      <th>2</th>\n",
       "      <td>Morogoro Urban</td>\n",
       "    </tr>\n",
       "    <tr>\n",
       "      <th>3</th>\n",
       "      <td>Karatu</td>\n",
       "    </tr>\n",
       "    <tr>\n",
       "      <th>4</th>\n",
       "      <td>Nkansi</td>\n",
       "    </tr>\n",
       "    <tr>\n",
       "      <th>5</th>\n",
       "      <td>Kilosa</td>\n",
       "    </tr>\n",
       "    <tr>\n",
       "      <th>6</th>\n",
       "      <td>Kilombero</td>\n",
       "    </tr>\n",
       "  </tbody>\n",
       "</table>\n",
       "</div>"
      ],
      "text/plain": [
       "         district\n",
       "0          Kasulu\n",
       "1        Zanzibar\n",
       "2  Morogoro Urban\n",
       "3          Karatu\n",
       "4          Nkansi\n",
       "5          Kilosa\n",
       "6       Kilombero"
      ]
     },
     "execution_count": 69,
     "metadata": {},
     "output_type": "execute_result"
    }
   ],
   "source": [
    "train_district.head(7)"
   ]
  },
  {
   "cell_type": "code",
   "execution_count": 61,
   "metadata": {},
   "outputs": [],
   "source": [
    "get_long_lat.drop_duplicates(subset='district', keep='first', inplace=True)\n",
    "get_long_lat.reset_index(drop=True, inplace=True)"
   ]
  },
  {
   "cell_type": "code",
   "execution_count": 62,
   "metadata": {},
   "outputs": [
    {
     "data": {
      "text/plain": [
       "(124, 3)"
      ]
     },
     "execution_count": 62,
     "metadata": {},
     "output_type": "execute_result"
    }
   ],
   "source": [
    "get_long_lat.shape"
   ]
  },
  {
   "cell_type": "code",
   "execution_count": 63,
   "metadata": {},
   "outputs": [],
   "source": [
    "train_district_long_lat = pd.merge(train_district, get_long_lat, on='district', how='left')\n",
    "test_district_long_lat = pd.merge(test_district, get_long_lat, on='district', how='left')"
   ]
  },
  {
   "cell_type": "code",
   "execution_count": 64,
   "metadata": {},
   "outputs": [],
   "source": [
    "train_district_long_lat.to_csv('trainDistrictLongLat.csv', index=False)\n",
    "test_district_long_lat.to_csv('testDistrictLongLat.csv', index=False)"
   ]
  },
  {
   "cell_type": "code",
   "execution_count": null,
   "metadata": {},
   "outputs": [],
   "source": []
  }
 ],
 "metadata": {
  "kernelspec": {
   "display_name": "Python 3",
   "language": "python",
   "name": "python3"
  },
  "language_info": {
   "codemirror_mode": {
    "name": "ipython",
    "version": 3
   },
   "file_extension": ".py",
   "mimetype": "text/x-python",
   "name": "python",
   "nbconvert_exporter": "python",
   "pygments_lexer": "ipython3",
   "version": "3.7.3"
  }
 },
 "nbformat": 4,
 "nbformat_minor": 2
}
